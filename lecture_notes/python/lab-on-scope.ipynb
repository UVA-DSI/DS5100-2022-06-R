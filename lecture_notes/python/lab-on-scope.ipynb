{
 "cells": [
  {
   "cell_type": "markdown",
   "metadata": {},
   "source": [
    "# Python Scope Exercise\n",
    "* Author: Pete Alonzi (datascientist@virginia.edu)\n",
    "\n",
    "### University of Virginia\n",
    "### Programming for Data Science\n",
    "### Last Updated: April 5, 2021\n",
    "---"
   ]
  },
  {
   "cell_type": "markdown",
   "metadata": {},
   "source": [
    "## reading list\n",
    "* https://en.wikipedia.org/wiki/Scope_(computer_science)"
   ]
  },
  {
   "cell_type": "markdown",
   "metadata": {},
   "source": [
    "### This lab is all about understanding errors and bugs produced by scope.\n",
    "If you aren't familiar with the term scope, please see the wiki page in the readinglist.\n",
    "\n",
    "**NB:** Every programming language is different. Today we are working in python, do not assume the details transfer. But the concepts will.\n",
    "\n",
    "---  "
   ]
  },
  {
   "cell_type": "markdown",
   "metadata": {},
   "source": [
    "### Step 1: Pre-test\n",
    "In this step read the following code and predict what will happen. I cannot stress enough how important it is to take the time to predict no matter how easy or hard you may think it to be. For each block predict what the output will be. Record your results for each snippet (ie: right or wrong)"
   ]
  },
  {
   "cell_type": "code",
   "execution_count": null,
   "metadata": {},
   "outputs": [],
   "source": [
    "# Snippet 1\n",
    "def print_me():\n",
    "    print(x)\n",
    "\n",
    "print_me()"
   ]
  },
  {
   "cell_type": "code",
   "execution_count": null,
   "metadata": {},
   "outputs": [],
   "source": [
    "# Snippet 2\n",
    "def print_me():\n",
    "    x=5\n",
    "    print(x)\n",
    "    \n",
    "print_me()"
   ]
  },
  {
   "cell_type": "code",
   "execution_count": null,
   "metadata": {},
   "outputs": [],
   "source": [
    "# Snippet 3\n",
    "print(x)"
   ]
  },
  {
   "cell_type": "code",
   "execution_count": null,
   "metadata": {},
   "outputs": [],
   "source": [
    "# Snippet 4\n",
    "x = 7\n",
    "print_me()"
   ]
  },
  {
   "cell_type": "code",
   "execution_count": null,
   "metadata": {},
   "outputs": [],
   "source": [
    "# Snippet 5\n",
    "x = 7\n",
    "print_me()\n",
    "print(x)"
   ]
  },
  {
   "cell_type": "code",
   "execution_count": null,
   "metadata": {},
   "outputs": [],
   "source": [
    "# Snippet 6\n",
    "\n",
    "def print_me(x):\n",
    "    print(x)\n",
    "    \n",
    "x = 9\n",
    "print_me()\n",
    "print_me(x)\n",
    "print_me()\n",
    "print(x)"
   ]
  },
  {
   "cell_type": "code",
   "execution_count": null,
   "metadata": {},
   "outputs": [],
   "source": [
    "# Snippet 7\n",
    "def print_me(x=5):\n",
    "    print(x)\n",
    "    \n",
    "x = 9\n",
    "print_me()\n",
    "print_me(x)\n",
    "print_me()\n",
    "print(x)"
   ]
  },
  {
   "cell_type": "markdown",
   "metadata": {},
   "source": [
    "### Step 2: lock it in\n",
    "1. Find a curious person. Explain to them why you got the ones you got right right and why you got the ones you got wrong wrong.\n",
    "\n",
    "2. Answer any follow up questions they may have."
   ]
  },
  {
   "cell_type": "code",
   "execution_count": null,
   "metadata": {},
   "outputs": [],
   "source": []
  }
 ],
 "metadata": {
  "kernelspec": {
   "display_name": "Python 3",
   "language": "python",
   "name": "python3"
  },
  "language_info": {
   "codemirror_mode": {
    "name": "ipython",
    "version": 3
   },
   "file_extension": ".py",
   "mimetype": "text/x-python",
   "name": "python",
   "nbconvert_exporter": "python",
   "pygments_lexer": "ipython3",
   "version": "3.7.4"
  }
 },
 "nbformat": 4,
 "nbformat_minor": 5
}
